{
 "cells": [
  {
   "cell_type": "code",
   "execution_count": 81,
   "metadata": {},
   "outputs": [
    {
     "name": "stdout",
     "output_type": "stream",
     "text": [
      "import complete\n",
      "[<p>In 1962, Congress amended the Federal Food, Drug, and Cosmetic Act to require prescription drug manufacturers to print the common or “established” name of their drugs in large letters along with the “proprietary” or trade name of the drug on all packaging. Abbott Laboratories and thirty-seven other prescription drug manufacturers (plaintiffs) brought suit against Gardner (defendant), the federal Commissioner responsible for enforcing the new act, alleging that the Commissioner exceeded his authority in making such a regulation. Abbott successfully sought injunctive and declaratory relief in district court, but the court of appeals reversed. The United States Supreme Court granted certiorari.</p>]\n",
      "\n",
      "[<p>In 1962, Congress amended the Federal Food, Drug, and Cosmetic Act to require prescription drug manufacturers to print the common or “established” name of their drugs in large letters along with the “proprietary” or trade name of the drug on all packaging. Abbott Laboratories and thirty-seven other prescription drug manufacturers (plaintiffs) brought suit against Gardner (defendant), the federal Commissioner responsible for enforcing the new act, alleging that the Commissioner exceeded his authority in making such a regulation. Abbott successfully sought injunctive and declaratory relief in district court, but the court of appeals reversed. The United States Supreme Court granted certiorari.</p>, <p><b><a aria-label=\"Unlock this case brief\" data-continue-to=\"/pricing\" data-metric=\"Clicked Try Quimbee Button\" data-metric-button-variation=\"case_brief_what_next\" data-metric-signed-in=\"false\" data-submit-copy=\"Start My FREE Trial\" data-target=\".sign-up-modal.sign-up-modal-for-subscription\" data-toggle=\"modal\" href=\"#\">Unlock this case brief</a> with a free (no-commitment) trial membership of Quimbee.</b></p>, <p>You’ll be in good company: Quimbee is one of the most widely used and trusted sites for law students, serving more than 97,000 law students since 2011. Some law schools—such as Yale, Vanderbilt, Berkeley, and the University of Illinois—even subscribe directly to Quimbee for all their law students. <a href=\"/about/testimonials\">Read our student testimonials</a>.</p>, <p><b><a href=\"/our-approach\">Learn more</a> about Quimbee’s unique (and proven) approach to achieving great grades at law school.</b></p>, <p>Quimbee is a company hell-bent on one thing: helping you get an “A” in every course you take in law school, so you can graduate at the top of your class and get a high-paying law job. We’re not just a study aid for law students; we’re the study aid for law students. Read more <a href=\"/about\">about Quimbee</a>.</p>]\n"
     ]
    }
   ],
   "source": [
    "import urllib.request as ur\n",
    "import requests\n",
    "import time\n",
    "from bs4 import BeautifulSoup\n",
    "import mechanize\n",
    "import http.cookiejar\n",
    "import os\n",
    "from selenium import webdriver\n",
    "from selenium.webdriver.firefox.firefox_binary import FirefoxBinary\n",
    "import ghost\n",
    "import pandas as pd\n",
    "print('import complete')\n",
    "#gecko = os.path.normpath(os.path.join(os.path.dirname(__file__), 'geckodriver'))\n",
    "#binary = FirefoxBinary(r'C:\\\\Program Files (x86)\\\\Mozilla Firefox\\\\firefox.exe')\n",
    "#driver = webdriver.Firefox(firefox_binary=binary, executable_path=\"C:\\\\Users\\\\u1189580\\\\AppData\\\\Local\\\\Continuum\\\\anaconda3\\\\Scripts\\\\gecko.exe\")\n",
    "\n",
    "\n",
    "\n",
    "cj = http.cookiejar.CookieJar()\n",
    "br = mechanize.Browser()\n",
    "br.set_cookiejar(cj)\n",
    "br.open(\"https://www.quimbee.com/users/sign_in\")\n",
    "br.select_form(nr=0)\n",
    "#br.select_form(name=\"order\")\n",
    "#br.form['user_email'] = 'benjamin.pardue@guycarp.com'\n",
    "#br.form['Password'] = 'Republ1@.'\n",
    "#br.submit()\n",
    "post_url, post_data, headers =  br.form.click_request_data()\n",
    "mechanize.urlopen(post_url, post_data)\n",
    "#def quimby_login():\n",
    "#    driver.get(\"https://www.quimbee.com/users/sign_in\")\n",
    "#    driver.find_element_by_id(\"user_emai\").send_keys(\"benjamin.pardue@guycarp.com\")\n",
    "#    driver.find_element_by_id ('user_password').send_keys('Republ1@')\n",
    "#    driver.find_element_by_id(\"Log In\").click()\n",
    "\n",
    "#print(br.response().read())\n",
    "\n",
    "#quimby_login()\n",
    "\n",
    "# Collect and parse first page\n",
    "page = requests.get('https://www.quimbee.com/cases/abbott-laboratories-v-gardner')\n",
    "soup = BeautifulSoup(page.text, 'html.parser')\n",
    "\n",
    "# Pull all text from the BodyText div\n",
    "#law = soup.find(class_=\"Rule of Law\")\n",
    "# Pull text from all instances of <a> tag within BodyText div\n",
    "#lawList = law.find_all('p')\n",
    "#print(lawList)\n",
    "\n",
    "# Pull all text from the BodyText div\n",
    "facts = soup.find(class_=\"facts\")\n",
    "# Pull text from all instances of <a> tag within BodyText div\n",
    "factlist = facts.find_all('p')\n",
    "print(factlist)\n",
    "print()\n",
    "\n",
    "# Pull all text from the BodyText div\n",
    "issues = soup.find(class_=\"set-75-characters\")\n",
    "# Pull text from all instances of <a> tag within BodyText div\n",
    "issueList = issues.find_all('p')\n",
    "print(issueList)\n"
   ]
  },
  {
   "cell_type": "code",
   "execution_count": null,
   "metadata": {},
   "outputs": [],
   "source": []
  }
 ],
 "metadata": {
  "kernelspec": {
   "display_name": "Python 3",
   "language": "python",
   "name": "python3"
  },
  "language_info": {
   "codemirror_mode": {
    "name": "ipython",
    "version": 3
   },
   "file_extension": ".py",
   "mimetype": "text/x-python",
   "name": "python",
   "nbconvert_exporter": "python",
   "pygments_lexer": "ipython3",
   "version": "3.7.3"
  }
 },
 "nbformat": 4,
 "nbformat_minor": 2
}
